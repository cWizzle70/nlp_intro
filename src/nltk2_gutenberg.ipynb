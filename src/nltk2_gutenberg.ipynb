{
 "cells": [
  {
   "cell_type": "code",
   "execution_count": 9,
   "metadata": {},
   "outputs": [],
   "source": [
    "import nltk\n",
    "from nltk.corpus import gutenberg"
   ]
  },
  {
   "cell_type": "markdown",
   "metadata": {},
   "source": [
    "### Corpus\n",
    "A corpus is a large body of text. Corpura is a collection of multiple corpus.\n",
    "\n",
    "This demo uses the gutenberg corpus"
   ]
  },
  {
   "cell_type": "code",
   "execution_count": 10,
   "metadata": {},
   "outputs": [
    {
     "data": {
      "text/plain": [
       "['austen-emma.txt',\n",
       " 'austen-persuasion.txt',\n",
       " 'austen-sense.txt',\n",
       " 'bible-kjv.txt',\n",
       " 'blake-poems.txt',\n",
       " 'bryant-stories.txt',\n",
       " 'burgess-busterbrown.txt',\n",
       " 'carroll-alice.txt',\n",
       " 'chesterton-ball.txt',\n",
       " 'chesterton-brown.txt',\n",
       " 'chesterton-thursday.txt',\n",
       " 'edgeworth-parents.txt',\n",
       " 'melville-moby_dick.txt',\n",
       " 'milton-paradise.txt',\n",
       " 'shakespeare-caesar.txt',\n",
       " 'shakespeare-hamlet.txt',\n",
       " 'shakespeare-macbeth.txt',\n",
       " 'whitman-leaves.txt']"
      ]
     },
     "execution_count": 10,
     "metadata": {},
     "output_type": "execute_result"
    }
   ],
   "source": [
    "gutenberg.fileids()"
   ]
  },
  {
   "cell_type": "code",
   "execution_count": 11,
   "metadata": {},
   "outputs": [],
   "source": [
    "emma = gutenberg.words('austen-emma.txt')"
   ]
  },
  {
   "cell_type": "code",
   "execution_count": 12,
   "metadata": {},
   "outputs": [
    {
     "name": "stdout",
     "output_type": "stream",
     "text": [
      "Displaying 14 of 14 matches:\n",
      "all are flown ; Lord of the earth and sea , he bends a slave , And woman , love\n",
      "all are flown . Lord of the earth and sea , he bends a slave , And woman , love\n",
      "days of this autumn had been given to sea - bathing for the children , and it w\n",
      "ere . I never had much opinion of the sea air .\" \" Mr . Wingfield most strenuou\n",
      "s in little Bella ' s throat ,-- both sea air and bathing .\" \" Ah ! my dear , b\n",
      ", but Perry had many doubts about the sea doing her any good ; and as to myself\n",
      "I never told you so before , that the sea is very rarely of use to any body . I\n",
      ", \" I must beg you not to talk of the sea . It makes me envious and miserable ;\n",
      "ys be very sorry that you went to the sea this autumn , instead of coming here \n",
      "nd , moreover , if you must go to the sea , it had better not have been to Sout\n",
      "he holds it to be the best of all the sea - bathing places . A fine open sea , \n",
      "he sea - bathing places . A fine open sea , he says , and very pure air . And ,\n",
      "ad lodgings there quite away from the sea -- a quarter of a mile off -- very co\n",
      "ils , would have been dashed into the sea at once , and actually was all but go\n"
     ]
    }
   ],
   "source": [
    "emma = nltk.Text(emma)\n",
    "emma.concordance('sea')"
   ]
  },
  {
   "cell_type": "markdown",
   "metadata": {},
   "source": [
    "### Statistics"
   ]
  },
  {
   "cell_type": "code",
   "execution_count": 18,
   "metadata": {},
   "outputs": [
    {
     "name": "stdout",
     "output_type": "stream",
     "text": [
      "Statistics for austen-emma.txt\n",
      "chars:words\t\t4.609909212324673\n",
      "words:sentences\t\t24.822884416924666\n",
      "words:vocabulary\t26.201933551198255\n",
      "\n",
      "\n",
      "Statistics for austen-persuasion.txt\n",
      "chars:words\t\t4.749793727271801\n",
      "words:sentences\t\t26.19989324793168\n",
      "words:vocabulary\t16.82450728363325\n",
      "\n",
      "\n",
      "Statistics for austen-sense.txt\n",
      "chars:words\t\t4.753785952421314\n",
      "words:sentences\t\t28.32086417283457\n",
      "words:vocabulary\t22.11088552241137\n",
      "\n",
      "\n",
      "Statistics for bible-kjv.txt\n",
      "chars:words\t\t4.286881563819072\n",
      "words:sentences\t\t33.57319868451649\n",
      "words:vocabulary\t79.16143181640166\n",
      "\n",
      "\n",
      "Statistics for blake-poems.txt\n",
      "chars:words\t\t4.567033756284415\n",
      "words:sentences\t\t19.073059360730593\n",
      "words:vocabulary\t5.442345276872964\n",
      "\n",
      "\n",
      "Statistics for bryant-stories.txt\n",
      "chars:words\t\t4.489300433741879\n",
      "words:sentences\t\t19.40726510653161\n",
      "words:vocabulary\t14.10228426395939\n",
      "\n",
      "\n",
      "Statistics for burgess-busterbrown.txt\n",
      "chars:words\t\t4.464641670621737\n",
      "words:sentences\t\t17.99146110056926\n",
      "words:vocabulary\t12.163566388710713\n",
      "\n",
      "\n",
      "Statistics for carroll-alice.txt\n",
      "chars:words\t\t4.233216065669891\n",
      "words:sentences\t\t20.029359953024077\n",
      "words:vocabulary\t12.940060698027315\n",
      "\n",
      "\n",
      "Statistics for chesterton-ball.txt\n",
      "chars:words\t\t4.716173862839705\n",
      "words:sentences\t\t20.296296296296298\n",
      "words:vocabulary\t11.637192561487703\n",
      "\n",
      "\n",
      "Statistics for chesterton-brown.txt\n",
      "chars:words\t\t4.724783007796614\n",
      "words:sentences\t\t22.61245401996847\n",
      "words:vocabulary\t11.042211957916345\n",
      "\n",
      "\n",
      "Statistics for chesterton-thursday.txt\n",
      "chars:words\t\t4.63099417739442\n",
      "words:sentences\t\t18.496258685195084\n",
      "words:vocabulary\t10.901401795558355\n",
      "\n",
      "\n",
      "Statistics for edgeworth-parents.txt\n",
      "chars:words\t\t4.4391184023772565\n",
      "words:sentences\t\t20.59266862170088\n",
      "words:vocabulary\t24.939386764531786\n",
      "\n",
      "\n",
      "Statistics for melville-moby_dick.txt\n",
      "chars:words\t\t4.76571875515204\n",
      "words:sentences\t\t25.928919375683467\n",
      "words:vocabulary\t15.136614241773549\n",
      "\n",
      "\n",
      "Statistics for milton-paradise.txt\n",
      "chars:words\t\t4.835734572682675\n",
      "words:sentences\t\t52.309562398703406\n",
      "words:vocabulary\t10.73328899235118\n",
      "\n",
      "\n",
      "Statistics for shakespeare-caesar.txt\n",
      "chars:words\t\t4.347539968257655\n",
      "words:sentences\t\t11.943134535367545\n",
      "words:vocabulary\t8.520118733509236\n",
      "\n",
      "\n",
      "Statistics for shakespeare-hamlet.txt\n",
      "chars:words\t\t4.3597698072805136\n",
      "words:sentences\t\t12.028332260141662\n",
      "words:vocabulary\t7.921967769296014\n",
      "\n",
      "\n",
      "Statistics for shakespeare-macbeth.txt\n",
      "chars:words\t\t4.336689714779602\n",
      "words:sentences\t\t12.134242265338228\n",
      "words:vocabulary\t6.680138568129331\n",
      "\n",
      "\n",
      "Statistics for whitman-leaves.txt\n",
      "chars:words\t\t4.591950052620365\n",
      "words:sentences\t\t36.44305882352941\n",
      "words:vocabulary\t12.438403469322198\n",
      "\n",
      "\n"
     ]
    }
   ],
   "source": [
    "for file_id in gutenberg.fileids():\n",
    "    words = gutenberg.words(file_id)\n",
    "    vocabulary = set([w.lower() for w in words])\n",
    "\n",
    "    num_words = len(words)\n",
    "    num_vocabulary = len(vocabulary)\n",
    "    num_chars = len(gutenberg.raw(file_id))\n",
    "    num_sentences = len(gutenberg.sents(file_id))\n",
    "\n",
    "    print(f'Statistics for {file_id}\\n' \\\n",
    "          f'chars:words\\t\\t{num_chars / num_words}\\n' \\\n",
    "          f'words:sentences\\t\\t{num_words / num_sentences}\\n' \\\n",
    "          f'words:vocabulary\\t{num_words / num_vocabulary}\\n\\n')"
   ]
  },
  {
   "cell_type": "code",
   "execution_count": null,
   "metadata": {},
   "outputs": [],
   "source": []
  }
 ],
 "metadata": {
  "kernelspec": {
   "display_name": ".venv",
   "language": "python",
   "name": "python3"
  },
  "language_info": {
   "codemirror_mode": {
    "name": "ipython",
    "version": 3
   },
   "file_extension": ".py",
   "mimetype": "text/x-python",
   "name": "python",
   "nbconvert_exporter": "python",
   "pygments_lexer": "ipython3",
   "version": "3.11.5"
  },
  "orig_nbformat": 4
 },
 "nbformat": 4,
 "nbformat_minor": 2
}
