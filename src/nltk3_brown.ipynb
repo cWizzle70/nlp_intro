{
 "cells": [
  {
   "cell_type": "code",
   "execution_count": 4,
   "metadata": {},
   "outputs": [],
   "source": [
    "import nltk\n",
    "from nltk.corpus import brown"
   ]
  },
  {
   "cell_type": "markdown",
   "metadata": {},
   "source": [
    "### Categories == Genres"
   ]
  },
  {
   "cell_type": "code",
   "execution_count": 5,
   "metadata": {},
   "outputs": [
    {
     "data": {
      "text/plain": [
       "['adventure',\n",
       " 'belles_lettres',\n",
       " 'editorial',\n",
       " 'fiction',\n",
       " 'government',\n",
       " 'hobbies',\n",
       " 'humor',\n",
       " 'learned',\n",
       " 'lore',\n",
       " 'mystery',\n",
       " 'news',\n",
       " 'religion',\n",
       " 'reviews',\n",
       " 'romance',\n",
       " 'science_fiction']"
      ]
     },
     "execution_count": 5,
     "metadata": {},
     "output_type": "execute_result"
    }
   ],
   "source": [
    "brown.categories()"
   ]
  },
  {
   "cell_type": "code",
   "execution_count": 8,
   "metadata": {},
   "outputs": [
    {
     "name": "stdout",
     "output_type": "stream",
     "text": [
      "                  can could   may might  must  will \n",
      "        hobbies   268    58   131    22    83   264 \n",
      "          humor    16    30     8     8     9    13 \n",
      "           news    93    86    66    38    50   389 \n",
      "       religion    82    59    78    12    54    71 \n",
      "        romance    74   193    11    51    45    43 \n",
      "science_fiction    16    49     4    12     8    16 \n",
      "\n"
     ]
    }
   ],
   "source": [
    "cfd = nltk.ConditionalFreqDist(\n",
    "    (genre, words)\n",
    "    for genre in brown.categories()\n",
    "    for words in brown.words(categories=genre)\n",
    ")\n",
    "\n",
    "genres = ['hobbies', 'humor', 'news', 'religion', 'romance', 'science_fiction']\n",
    "modals = ['can', 'could', 'may', 'might', 'must', 'will']\n",
    "\n",
    "cfd.tabulate(conditions=genres, samples=modals)\n",
    "print()"
   ]
  },
  {
   "cell_type": "markdown",
   "metadata": {},
   "source": [
    "### Types of corpus\n",
    "- isolated\n",
    "    - unrelated bodies of text\n",
    "- grouped\n",
    "    - bodies of text are organised into categories/genres\n",
    "- overlapping\n",
    "    - bodies of text may be relevant to more than one category/genre\n",
    "- temporal\n",
    "    - bodies of text are organised chronologically"
   ]
  },
  {
   "cell_type": "markdown",
   "metadata": {},
   "source": [
    "### Lexicon - aka Lexical Resources\n",
    "Compilation of words or phrases accompanied by relevant info such as respective part of a speech or sentiment\n",
    "\n",
    "\n",
    "Example:\n",
    "\n",
    "saw<sub>1</sub> \\[verb], past tense of see&emsp;<- lexicon\n",
    "\n",
    "saw<sub>2</sub> \\[noun], cutting instrument&emsp;<- another lexicon\n",
    "\n",
    "\n",
    "Two distinct words with the same spelling, as above, are called **homonyns**"
   ]
  },
  {
   "cell_type": "markdown",
   "metadata": {},
   "source": []
  }
 ],
 "metadata": {
  "kernelspec": {
   "display_name": ".venv",
   "language": "python",
   "name": "python3"
  },
  "language_info": {
   "codemirror_mode": {
    "name": "ipython",
    "version": 3
   },
   "file_extension": ".py",
   "mimetype": "text/x-python",
   "name": "python",
   "nbconvert_exporter": "python",
   "pygments_lexer": "ipython3",
   "version": "3.11.5"
  },
  "orig_nbformat": 4
 },
 "nbformat": 4,
 "nbformat_minor": 2
}
